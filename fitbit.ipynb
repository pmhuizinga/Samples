{
 "cells": [
  {
   "cell_type": "markdown",
   "metadata": {},
   "source": [
    "# FITBIT "
   ]
  },
  {
   "cell_type": "markdown",
   "metadata": {},
   "source": [
    "Ik moet op basis van deze data een soort voorspelling maken of de loper in kwestie bij een bepaald verloop tot 18:00, aan het einde van de dag de 10.000 stappen haalt.  \n",
    "Verder invullen in een data base, wat beschrijvende statistiek etc.\n",
    "\n",
    "? Gaat het om het verloop tot 18:00? of kan je gewoon zeggen dat de kans op minimaal x stappen y procent is wanneer je om 18:00 z stappen hebt gezet? (per fitbit uiteraard)\n",
    "\n",
    "Data bevat veel dagen waarop uberhaupt geen stappen zijn gezet. Ik zou deze verwijderen  \n",
    "\n",
    "Data lijkt ook niet juist verdeeld. Bijvoorbeeld bij fitbit 325 zijn er in het begin meer actieve weekdagen dan aan het einde waardoor weekdag of datum geen voorspellende waarde meer heeft. Wederom een reden om alle dagen met 0 stappen te verwijderen"
   ]
  },
  {
   "cell_type": "code",
   "execution_count": 189,
   "metadata": {},
   "outputs": [],
   "source": [
    "import pandas as pd\n",
    "import matplotlib.pyplot as plt\n",
    "import seaborn as sns\n",
    "import math\n",
    "sns.set()"
   ]
  },
  {
   "cell_type": "code",
   "execution_count": 190,
   "metadata": {},
   "outputs": [],
   "source": [
    "date_limit = 18\n",
    "steps_limit = 10000"
   ]
  },
  {
   "cell_type": "code",
   "execution_count": 200,
   "metadata": {},
   "outputs": [],
   "source": [
    "df = pd.read_csv('fitbit_combined_hourly_csv.csv')"
   ]
  },
  {
   "cell_type": "markdown",
   "metadata": {},
   "source": [
    "## Data exploration"
   ]
  },
  {
   "cell_type": "code",
   "execution_count": 201,
   "metadata": {},
   "outputs": [
    {
     "data": {
      "text/html": [
       "<div>\n",
       "<style scoped>\n",
       "    .dataframe tbody tr th:only-of-type {\n",
       "        vertical-align: middle;\n",
       "    }\n",
       "\n",
       "    .dataframe tbody tr th {\n",
       "        vertical-align: top;\n",
       "    }\n",
       "\n",
       "    .dataframe thead th {\n",
       "        text-align: right;\n",
       "    }\n",
       "</style>\n",
       "<table border=\"1\" class=\"dataframe\">\n",
       "  <thead>\n",
       "    <tr style=\"text-align: right;\">\n",
       "      <th></th>\n",
       "      <th>fitbit_id</th>\n",
       "      <th>date</th>\n",
       "      <th>treatment_id</th>\n",
       "      <th>calories</th>\n",
       "      <th>mets</th>\n",
       "      <th>level</th>\n",
       "      <th>steps</th>\n",
       "      <th>distance</th>\n",
       "    </tr>\n",
       "  </thead>\n",
       "  <tbody>\n",
       "    <tr>\n",
       "      <th>0</th>\n",
       "      <td>323</td>\n",
       "      <td>19/01/2015 01:00</td>\n",
       "      <td>134520</td>\n",
       "      <td>120.359677</td>\n",
       "      <td>1216</td>\n",
       "      <td>0</td>\n",
       "      <td>0</td>\n",
       "      <td>0.00000</td>\n",
       "    </tr>\n",
       "    <tr>\n",
       "      <th>1</th>\n",
       "      <td>323</td>\n",
       "      <td>19/01/2015 02:00</td>\n",
       "      <td>134520</td>\n",
       "      <td>128.278078</td>\n",
       "      <td>1296</td>\n",
       "      <td>2</td>\n",
       "      <td>32</td>\n",
       "      <td>0.02364</td>\n",
       "    </tr>\n",
       "    <tr>\n",
       "      <th>2</th>\n",
       "      <td>323</td>\n",
       "      <td>19/01/2015 03:00</td>\n",
       "      <td>134520</td>\n",
       "      <td>127.486237</td>\n",
       "      <td>1288</td>\n",
       "      <td>4</td>\n",
       "      <td>50</td>\n",
       "      <td>0.03696</td>\n",
       "    </tr>\n",
       "    <tr>\n",
       "      <th>3</th>\n",
       "      <td>323</td>\n",
       "      <td>19/01/2015 04:00</td>\n",
       "      <td>134520</td>\n",
       "      <td>119.567837</td>\n",
       "      <td>1208</td>\n",
       "      <td>0</td>\n",
       "      <td>0</td>\n",
       "      <td>0.00000</td>\n",
       "    </tr>\n",
       "    <tr>\n",
       "      <th>4</th>\n",
       "      <td>323</td>\n",
       "      <td>19/01/2015 05:00</td>\n",
       "      <td>134520</td>\n",
       "      <td>118.775997</td>\n",
       "      <td>1200</td>\n",
       "      <td>0</td>\n",
       "      <td>0</td>\n",
       "      <td>0.00000</td>\n",
       "    </tr>\n",
       "  </tbody>\n",
       "</table>\n",
       "</div>"
      ],
      "text/plain": [
       "   fitbit_id              date  treatment_id    calories  mets  level  steps  \\\n",
       "0        323  19/01/2015 01:00        134520  120.359677  1216      0      0   \n",
       "1        323  19/01/2015 02:00        134520  128.278078  1296      2     32   \n",
       "2        323  19/01/2015 03:00        134520  127.486237  1288      4     50   \n",
       "3        323  19/01/2015 04:00        134520  119.567837  1208      0      0   \n",
       "4        323  19/01/2015 05:00        134520  118.775997  1200      0      0   \n",
       "\n",
       "   distance  \n",
       "0   0.00000  \n",
       "1   0.02364  \n",
       "2   0.03696  \n",
       "3   0.00000  \n",
       "4   0.00000  "
      ]
     },
     "execution_count": 201,
     "metadata": {},
     "output_type": "execute_result"
    }
   ],
   "source": [
    "df.head()"
   ]
  },
  {
   "cell_type": "code",
   "execution_count": 202,
   "metadata": {},
   "outputs": [
    {
     "data": {
      "text/html": [
       "<div>\n",
       "<style scoped>\n",
       "    .dataframe tbody tr th:only-of-type {\n",
       "        vertical-align: middle;\n",
       "    }\n",
       "\n",
       "    .dataframe tbody tr th {\n",
       "        vertical-align: top;\n",
       "    }\n",
       "\n",
       "    .dataframe thead th {\n",
       "        text-align: right;\n",
       "    }\n",
       "</style>\n",
       "<table border=\"1\" class=\"dataframe\">\n",
       "  <thead>\n",
       "    <tr style=\"text-align: right;\">\n",
       "      <th></th>\n",
       "      <th>fitbit_id</th>\n",
       "      <th>treatment_id</th>\n",
       "      <th>calories</th>\n",
       "      <th>mets</th>\n",
       "      <th>level</th>\n",
       "      <th>steps</th>\n",
       "      <th>distance</th>\n",
       "    </tr>\n",
       "  </thead>\n",
       "  <tbody>\n",
       "    <tr>\n",
       "      <th>count</th>\n",
       "      <td>30480.000000</td>\n",
       "      <td>30480.000000</td>\n",
       "      <td>30480.000000</td>\n",
       "      <td>30480.000000</td>\n",
       "      <td>30480.000000</td>\n",
       "      <td>30480.000000</td>\n",
       "      <td>30480.000000</td>\n",
       "    </tr>\n",
       "    <tr>\n",
       "      <th>mean</th>\n",
       "      <td>330.554331</td>\n",
       "      <td>134594.267717</td>\n",
       "      <td>201.698974</td>\n",
       "      <td>1720.336549</td>\n",
       "      <td>26.295079</td>\n",
       "      <td>701.355774</td>\n",
       "      <td>0.529748</td>\n",
       "    </tr>\n",
       "    <tr>\n",
       "      <th>std</th>\n",
       "      <td>9.177311</td>\n",
       "      <td>235.894991</td>\n",
       "      <td>126.155036</td>\n",
       "      <td>975.641070</td>\n",
       "      <td>50.007651</td>\n",
       "      <td>1552.317623</td>\n",
       "      <td>1.175613</td>\n",
       "    </tr>\n",
       "    <tr>\n",
       "      <th>min</th>\n",
       "      <td>323.000000</td>\n",
       "      <td>134280.000000</td>\n",
       "      <td>66.321423</td>\n",
       "      <td>480.000000</td>\n",
       "      <td>0.000000</td>\n",
       "      <td>0.000000</td>\n",
       "      <td>0.000000</td>\n",
       "    </tr>\n",
       "    <tr>\n",
       "      <th>25%</th>\n",
       "      <td>325.000000</td>\n",
       "      <td>134400.000000</td>\n",
       "      <td>122.508001</td>\n",
       "      <td>1200.000000</td>\n",
       "      <td>0.000000</td>\n",
       "      <td>0.000000</td>\n",
       "      <td>0.000000</td>\n",
       "    </tr>\n",
       "    <tr>\n",
       "      <th>50%</th>\n",
       "      <td>327.000000</td>\n",
       "      <td>134520.000000</td>\n",
       "      <td>165.864000</td>\n",
       "      <td>1212.000000</td>\n",
       "      <td>0.000000</td>\n",
       "      <td>0.000000</td>\n",
       "      <td>0.000000</td>\n",
       "    </tr>\n",
       "    <tr>\n",
       "      <th>75%</th>\n",
       "      <td>329.000000</td>\n",
       "      <td>134760.000000</td>\n",
       "      <td>223.165496</td>\n",
       "      <td>1872.000000</td>\n",
       "      <td>32.000000</td>\n",
       "      <td>674.000000</td>\n",
       "      <td>0.506960</td>\n",
       "    </tr>\n",
       "    <tr>\n",
       "      <th>max</th>\n",
       "      <td>349.000000</td>\n",
       "      <td>135000.000000</td>\n",
       "      <td>1559.332427</td>\n",
       "      <td>12358.000000</td>\n",
       "      <td>360.000000</td>\n",
       "      <td>16972.000000</td>\n",
       "      <td>16.194520</td>\n",
       "    </tr>\n",
       "  </tbody>\n",
       "</table>\n",
       "</div>"
      ],
      "text/plain": [
       "          fitbit_id   treatment_id      calories          mets         level  \\\n",
       "count  30480.000000   30480.000000  30480.000000  30480.000000  30480.000000   \n",
       "mean     330.554331  134594.267717    201.698974   1720.336549     26.295079   \n",
       "std        9.177311     235.894991    126.155036    975.641070     50.007651   \n",
       "min      323.000000  134280.000000     66.321423    480.000000      0.000000   \n",
       "25%      325.000000  134400.000000    122.508001   1200.000000      0.000000   \n",
       "50%      327.000000  134520.000000    165.864000   1212.000000      0.000000   \n",
       "75%      329.000000  134760.000000    223.165496   1872.000000     32.000000   \n",
       "max      349.000000  135000.000000   1559.332427  12358.000000    360.000000   \n",
       "\n",
       "              steps      distance  \n",
       "count  30480.000000  30480.000000  \n",
       "mean     701.355774      0.529748  \n",
       "std     1552.317623      1.175613  \n",
       "min        0.000000      0.000000  \n",
       "25%        0.000000      0.000000  \n",
       "50%        0.000000      0.000000  \n",
       "75%      674.000000      0.506960  \n",
       "max    16972.000000     16.194520  "
      ]
     },
     "execution_count": 202,
     "metadata": {},
     "output_type": "execute_result"
    }
   ],
   "source": [
    "df.describe()"
   ]
  },
  {
   "cell_type": "code",
   "execution_count": 203,
   "metadata": {
    "scrolled": true
   },
   "outputs": [
    {
     "name": "stdout",
     "output_type": "stream",
     "text": [
      "<class 'pandas.core.frame.DataFrame'>\n",
      "RangeIndex: 30480 entries, 0 to 30479\n",
      "Data columns (total 8 columns):\n",
      "fitbit_id       30480 non-null int64\n",
      "date            30480 non-null object\n",
      "treatment_id    30480 non-null int64\n",
      "calories        30480 non-null float64\n",
      "mets            30480 non-null int64\n",
      "level           30480 non-null int64\n",
      "steps           30480 non-null int64\n",
      "distance        30480 non-null float64\n",
      "dtypes: float64(2), int64(5), object(1)\n",
      "memory usage: 1.9+ MB\n"
     ]
    }
   ],
   "source": [
    "df.info()"
   ]
  },
  {
   "cell_type": "markdown",
   "metadata": {},
   "source": [
    "## data handling"
   ]
  },
  {
   "cell_type": "code",
   "execution_count": 204,
   "metadata": {},
   "outputs": [],
   "source": [
    "# datum shizzle\n",
    "df['datum'] = pd.to_datetime(df.date).dt.date\n",
    "df.datum = pd.to_datetime(df.datum)\n",
    "df['uur'] = pd.to_datetime(df.date).dt.hour\n",
    "df['dag'] = pd.to_datetime(df.date).dt.weekday\n",
    "\n",
    "# data types\n",
    "df.steps = df.steps.astype(float)\n",
    "df.fitbit_id = df.fitbit_id.astype(float)"
   ]
  },
  {
   "cell_type": "code",
   "execution_count": 205,
   "metadata": {},
   "outputs": [],
   "source": [
    "# verwijder onnodige kolommen\n",
    "df = df[['fitbit_id', 'steps', 'datum','uur', 'dag']]"
   ]
  },
  {
   "cell_type": "code",
   "execution_count": 206,
   "metadata": {
    "scrolled": true
   },
   "outputs": [
    {
     "data": {
      "text/html": [
       "<div>\n",
       "<style scoped>\n",
       "    .dataframe tbody tr th:only-of-type {\n",
       "        vertical-align: middle;\n",
       "    }\n",
       "\n",
       "    .dataframe tbody tr th {\n",
       "        vertical-align: top;\n",
       "    }\n",
       "\n",
       "    .dataframe thead th {\n",
       "        text-align: right;\n",
       "    }\n",
       "</style>\n",
       "<table border=\"1\" class=\"dataframe\">\n",
       "  <thead>\n",
       "    <tr style=\"text-align: right;\">\n",
       "      <th></th>\n",
       "      <th>fitbit_id</th>\n",
       "      <th>steps</th>\n",
       "      <th>datum</th>\n",
       "      <th>uur</th>\n",
       "      <th>dag</th>\n",
       "      <th>cumsum</th>\n",
       "    </tr>\n",
       "  </thead>\n",
       "  <tbody>\n",
       "    <tr>\n",
       "      <th>0</th>\n",
       "      <td>323.0</td>\n",
       "      <td>0.0</td>\n",
       "      <td>2015-01-19</td>\n",
       "      <td>1</td>\n",
       "      <td>0</td>\n",
       "      <td>0.0</td>\n",
       "    </tr>\n",
       "    <tr>\n",
       "      <th>1</th>\n",
       "      <td>323.0</td>\n",
       "      <td>32.0</td>\n",
       "      <td>2015-01-19</td>\n",
       "      <td>2</td>\n",
       "      <td>0</td>\n",
       "      <td>32.0</td>\n",
       "    </tr>\n",
       "    <tr>\n",
       "      <th>2</th>\n",
       "      <td>323.0</td>\n",
       "      <td>50.0</td>\n",
       "      <td>2015-01-19</td>\n",
       "      <td>3</td>\n",
       "      <td>0</td>\n",
       "      <td>82.0</td>\n",
       "    </tr>\n",
       "    <tr>\n",
       "      <th>3</th>\n",
       "      <td>323.0</td>\n",
       "      <td>0.0</td>\n",
       "      <td>2015-01-19</td>\n",
       "      <td>4</td>\n",
       "      <td>0</td>\n",
       "      <td>82.0</td>\n",
       "    </tr>\n",
       "    <tr>\n",
       "      <th>4</th>\n",
       "      <td>323.0</td>\n",
       "      <td>0.0</td>\n",
       "      <td>2015-01-19</td>\n",
       "      <td>5</td>\n",
       "      <td>0</td>\n",
       "      <td>82.0</td>\n",
       "    </tr>\n",
       "  </tbody>\n",
       "</table>\n",
       "</div>"
      ],
      "text/plain": [
       "   fitbit_id  steps      datum  uur  dag  cumsum\n",
       "0      323.0    0.0 2015-01-19    1    0     0.0\n",
       "1      323.0   32.0 2015-01-19    2    0    32.0\n",
       "2      323.0   50.0 2015-01-19    3    0    82.0\n",
       "3      323.0    0.0 2015-01-19    4    0    82.0\n",
       "4      323.0    0.0 2015-01-19    5    0    82.0"
      ]
     },
     "execution_count": 206,
     "metadata": {},
     "output_type": "execute_result"
    }
   ],
   "source": [
    "# add cumulative steps per day, per fitbit\n",
    "df['cumsum'] = df.groupby(['fitbit_id', 'datum']).cumsum()['steps']\n",
    "df['cumsum'].astype(int)\n",
    "df.head()"
   ]
  },
  {
   "cell_type": "code",
   "execution_count": 207,
   "metadata": {
    "scrolled": true
   },
   "outputs": [
    {
     "data": {
      "text/html": [
       "<div>\n",
       "<style scoped>\n",
       "    .dataframe tbody tr th:only-of-type {\n",
       "        vertical-align: middle;\n",
       "    }\n",
       "\n",
       "    .dataframe tbody tr th {\n",
       "        vertical-align: top;\n",
       "    }\n",
       "\n",
       "    .dataframe thead th {\n",
       "        text-align: right;\n",
       "    }\n",
       "</style>\n",
       "<table border=\"1\" class=\"dataframe\">\n",
       "  <thead>\n",
       "    <tr style=\"text-align: right;\">\n",
       "      <th></th>\n",
       "      <th>fitbit_id</th>\n",
       "      <th>steps</th>\n",
       "      <th>datum</th>\n",
       "      <th>uur</th>\n",
       "      <th>dag</th>\n",
       "      <th>cumsum</th>\n",
       "      <th>class</th>\n",
       "    </tr>\n",
       "  </thead>\n",
       "  <tbody>\n",
       "    <tr>\n",
       "      <th>0</th>\n",
       "      <td>323.0</td>\n",
       "      <td>0.0</td>\n",
       "      <td>2015-01-19</td>\n",
       "      <td>1</td>\n",
       "      <td>0</td>\n",
       "      <td>0.0</td>\n",
       "      <td>1.0</td>\n",
       "    </tr>\n",
       "    <tr>\n",
       "      <th>1</th>\n",
       "      <td>323.0</td>\n",
       "      <td>32.0</td>\n",
       "      <td>2015-01-19</td>\n",
       "      <td>2</td>\n",
       "      <td>0</td>\n",
       "      <td>32.0</td>\n",
       "      <td>1.0</td>\n",
       "    </tr>\n",
       "    <tr>\n",
       "      <th>2</th>\n",
       "      <td>323.0</td>\n",
       "      <td>50.0</td>\n",
       "      <td>2015-01-19</td>\n",
       "      <td>3</td>\n",
       "      <td>0</td>\n",
       "      <td>82.0</td>\n",
       "      <td>1.0</td>\n",
       "    </tr>\n",
       "    <tr>\n",
       "      <th>3</th>\n",
       "      <td>323.0</td>\n",
       "      <td>0.0</td>\n",
       "      <td>2015-01-19</td>\n",
       "      <td>4</td>\n",
       "      <td>0</td>\n",
       "      <td>82.0</td>\n",
       "      <td>1.0</td>\n",
       "    </tr>\n",
       "    <tr>\n",
       "      <th>4</th>\n",
       "      <td>323.0</td>\n",
       "      <td>0.0</td>\n",
       "      <td>2015-01-19</td>\n",
       "      <td>5</td>\n",
       "      <td>0</td>\n",
       "      <td>82.0</td>\n",
       "      <td>1.0</td>\n",
       "    </tr>\n",
       "  </tbody>\n",
       "</table>\n",
       "</div>"
      ],
      "text/plain": [
       "   fitbit_id  steps      datum  uur  dag  cumsum  class\n",
       "0      323.0    0.0 2015-01-19    1    0     0.0    1.0\n",
       "1      323.0   32.0 2015-01-19    2    0    32.0    1.0\n",
       "2      323.0   50.0 2015-01-19    3    0    82.0    1.0\n",
       "3      323.0    0.0 2015-01-19    4    0    82.0    1.0\n",
       "4      323.0    0.0 2015-01-19    5    0    82.0    1.0"
      ]
     },
     "execution_count": 207,
     "metadata": {},
     "output_type": "execute_result"
    }
   ],
   "source": [
    "# voeg classifier (1/0) toe wanneer er meer dan 10.000 stappen per dag zijn gezet. \n",
    "# maak dataframe van dagen met meer dan 10.000 stappen\n",
    "df_y = df[(df.uur == 23) & (df['cumsum'] >= steps_limit)][['fitbit_id','datum']]\n",
    "df_y['class'] = 1\n",
    "df_y.reset_index(inplace=True, drop=True)\n",
    "\n",
    "# maak dataframe van dagen met 0 stappen\n",
    "df_z = df[(df.uur == 23) & (df['cumsum'] == 0)][['fitbit_id','datum']]\n",
    "df_z['zero_steps'] = 1\n",
    "df_z.reset_index(inplace=True, drop=True)\n",
    "\n",
    "# datatypes\n",
    "df.fitbit_id = df.fitbit_id.astype(float)\n",
    "df_y.fitbit_id = df_y.fitbit_id.astype(float)\n",
    "df_z.fitbit_id = df_z.fitbit_id.astype(float)\n",
    "\n",
    "# merge dataframes\n",
    "df = pd.merge(df, df_y, on=['fitbit_id', 'datum'], how='left')\n",
    "df['class'].fillna(0, inplace=True)\n",
    "\n",
    "# merge zerosteps df's\n",
    "df = pd.merge(df, df_z, on=['fitbit_id', 'datum'], how='left')\n",
    "df = df[df['zero_steps'] != 1]\n",
    "df.drop(['zero_steps'], axis=1, inplace=True)\n",
    "\n",
    "df.head()"
   ]
  },
  {
   "cell_type": "code",
   "execution_count": 208,
   "metadata": {},
   "outputs": [
    {
     "data": {
      "text/plain": [
       "19780"
      ]
     },
     "execution_count": 208,
     "metadata": {},
     "output_type": "execute_result"
    }
   ],
   "source": [
    "len(df)"
   ]
  },
  {
   "cell_type": "code",
   "execution_count": 211,
   "metadata": {},
   "outputs": [
    {
     "data": {
      "text/html": [
       "<div>\n",
       "<style scoped>\n",
       "    .dataframe tbody tr th:only-of-type {\n",
       "        vertical-align: middle;\n",
       "    }\n",
       "\n",
       "    .dataframe tbody tr th {\n",
       "        vertical-align: top;\n",
       "    }\n",
       "\n",
       "    .dataframe thead th {\n",
       "        text-align: right;\n",
       "    }\n",
       "</style>\n",
       "<table border=\"1\" class=\"dataframe\">\n",
       "  <thead>\n",
       "    <tr style=\"text-align: right;\">\n",
       "      <th></th>\n",
       "      <th>fitbit_id</th>\n",
       "      <th>steps</th>\n",
       "      <th>datum</th>\n",
       "      <th>uur</th>\n",
       "      <th>dag</th>\n",
       "      <th>cumsum</th>\n",
       "      <th>class</th>\n",
       "    </tr>\n",
       "  </thead>\n",
       "  <tbody>\n",
       "    <tr>\n",
       "      <th>17</th>\n",
       "      <td>323.0</td>\n",
       "      <td>2618.0</td>\n",
       "      <td>2015-01-19</td>\n",
       "      <td>18</td>\n",
       "      <td>0</td>\n",
       "      <td>14642.0</td>\n",
       "      <td>1.0</td>\n",
       "    </tr>\n",
       "    <tr>\n",
       "      <th>41</th>\n",
       "      <td>323.0</td>\n",
       "      <td>2220.0</td>\n",
       "      <td>2015-01-20</td>\n",
       "      <td>18</td>\n",
       "      <td>1</td>\n",
       "      <td>14460.0</td>\n",
       "      <td>1.0</td>\n",
       "    </tr>\n",
       "    <tr>\n",
       "      <th>65</th>\n",
       "      <td>323.0</td>\n",
       "      <td>4030.0</td>\n",
       "      <td>2015-01-21</td>\n",
       "      <td>18</td>\n",
       "      <td>2</td>\n",
       "      <td>15912.0</td>\n",
       "      <td>1.0</td>\n",
       "    </tr>\n",
       "    <tr>\n",
       "      <th>89</th>\n",
       "      <td>323.0</td>\n",
       "      <td>722.0</td>\n",
       "      <td>2015-01-22</td>\n",
       "      <td>18</td>\n",
       "      <td>3</td>\n",
       "      <td>12934.0</td>\n",
       "      <td>1.0</td>\n",
       "    </tr>\n",
       "    <tr>\n",
       "      <th>113</th>\n",
       "      <td>323.0</td>\n",
       "      <td>1050.0</td>\n",
       "      <td>2015-01-23</td>\n",
       "      <td>18</td>\n",
       "      <td>4</td>\n",
       "      <td>12770.0</td>\n",
       "      <td>1.0</td>\n",
       "    </tr>\n",
       "    <tr>\n",
       "      <th>137</th>\n",
       "      <td>323.0</td>\n",
       "      <td>740.0</td>\n",
       "      <td>2015-01-24</td>\n",
       "      <td>18</td>\n",
       "      <td>5</td>\n",
       "      <td>21380.0</td>\n",
       "      <td>1.0</td>\n",
       "    </tr>\n",
       "    <tr>\n",
       "      <th>161</th>\n",
       "      <td>323.0</td>\n",
       "      <td>856.0</td>\n",
       "      <td>2015-01-25</td>\n",
       "      <td>18</td>\n",
       "      <td>6</td>\n",
       "      <td>20316.0</td>\n",
       "      <td>1.0</td>\n",
       "    </tr>\n",
       "    <tr>\n",
       "      <th>185</th>\n",
       "      <td>323.0</td>\n",
       "      <td>7222.0</td>\n",
       "      <td>2015-01-26</td>\n",
       "      <td>18</td>\n",
       "      <td>0</td>\n",
       "      <td>25166.0</td>\n",
       "      <td>1.0</td>\n",
       "    </tr>\n",
       "    <tr>\n",
       "      <th>209</th>\n",
       "      <td>323.0</td>\n",
       "      <td>5686.0</td>\n",
       "      <td>2015-01-27</td>\n",
       "      <td>18</td>\n",
       "      <td>1</td>\n",
       "      <td>32456.0</td>\n",
       "      <td>1.0</td>\n",
       "    </tr>\n",
       "    <tr>\n",
       "      <th>257</th>\n",
       "      <td>323.0</td>\n",
       "      <td>2154.0</td>\n",
       "      <td>2015-01-29</td>\n",
       "      <td>18</td>\n",
       "      <td>3</td>\n",
       "      <td>8380.0</td>\n",
       "      <td>1.0</td>\n",
       "    </tr>\n",
       "    <tr>\n",
       "      <th>281</th>\n",
       "      <td>323.0</td>\n",
       "      <td>1824.0</td>\n",
       "      <td>2015-01-30</td>\n",
       "      <td>18</td>\n",
       "      <td>4</td>\n",
       "      <td>24652.0</td>\n",
       "      <td>1.0</td>\n",
       "    </tr>\n",
       "    <tr>\n",
       "      <th>305</th>\n",
       "      <td>323.0</td>\n",
       "      <td>204.0</td>\n",
       "      <td>2015-01-31</td>\n",
       "      <td>18</td>\n",
       "      <td>5</td>\n",
       "      <td>13782.0</td>\n",
       "      <td>1.0</td>\n",
       "    </tr>\n",
       "    <tr>\n",
       "      <th>329</th>\n",
       "      <td>323.0</td>\n",
       "      <td>976.0</td>\n",
       "      <td>2015-01-02</td>\n",
       "      <td>18</td>\n",
       "      <td>4</td>\n",
       "      <td>10240.0</td>\n",
       "      <td>1.0</td>\n",
       "    </tr>\n",
       "    <tr>\n",
       "      <th>353</th>\n",
       "      <td>323.0</td>\n",
       "      <td>62.0</td>\n",
       "      <td>2015-02-02</td>\n",
       "      <td>18</td>\n",
       "      <td>0</td>\n",
       "      <td>21472.0</td>\n",
       "      <td>1.0</td>\n",
       "    </tr>\n",
       "    <tr>\n",
       "      <th>377</th>\n",
       "      <td>323.0</td>\n",
       "      <td>2554.0</td>\n",
       "      <td>2015-03-02</td>\n",
       "      <td>18</td>\n",
       "      <td>0</td>\n",
       "      <td>28610.0</td>\n",
       "      <td>1.0</td>\n",
       "    </tr>\n",
       "  </tbody>\n",
       "</table>\n",
       "</div>"
      ],
      "text/plain": [
       "     fitbit_id   steps      datum  uur  dag   cumsum  class\n",
       "17       323.0  2618.0 2015-01-19   18    0  14642.0    1.0\n",
       "41       323.0  2220.0 2015-01-20   18    1  14460.0    1.0\n",
       "65       323.0  4030.0 2015-01-21   18    2  15912.0    1.0\n",
       "89       323.0   722.0 2015-01-22   18    3  12934.0    1.0\n",
       "113      323.0  1050.0 2015-01-23   18    4  12770.0    1.0\n",
       "137      323.0   740.0 2015-01-24   18    5  21380.0    1.0\n",
       "161      323.0   856.0 2015-01-25   18    6  20316.0    1.0\n",
       "185      323.0  7222.0 2015-01-26   18    0  25166.0    1.0\n",
       "209      323.0  5686.0 2015-01-27   18    1  32456.0    1.0\n",
       "257      323.0  2154.0 2015-01-29   18    3   8380.0    1.0\n",
       "281      323.0  1824.0 2015-01-30   18    4  24652.0    1.0\n",
       "305      323.0   204.0 2015-01-31   18    5  13782.0    1.0\n",
       "329      323.0   976.0 2015-01-02   18    4  10240.0    1.0\n",
       "353      323.0    62.0 2015-02-02   18    0  21472.0    1.0\n",
       "377      323.0  2554.0 2015-03-02   18    0  28610.0    1.0"
      ]
     },
     "execution_count": 211,
     "metadata": {},
     "output_type": "execute_result"
    }
   ],
   "source": [
    "df[(df.uur == date_limit) & (df['class'] == 1) & (df['cumsum'] != 0)][:15]"
   ]
  },
  {
   "cell_type": "code",
   "execution_count": 230,
   "metadata": {},
   "outputs": [
    {
     "data": {
      "text/html": [
       "<div>\n",
       "<style scoped>\n",
       "    .dataframe tbody tr th:only-of-type {\n",
       "        vertical-align: middle;\n",
       "    }\n",
       "\n",
       "    .dataframe tbody tr th {\n",
       "        vertical-align: top;\n",
       "    }\n",
       "\n",
       "    .dataframe thead th {\n",
       "        text-align: right;\n",
       "    }\n",
       "</style>\n",
       "<table border=\"1\" class=\"dataframe\">\n",
       "  <thead>\n",
       "    <tr style=\"text-align: right;\">\n",
       "      <th></th>\n",
       "      <th>cumsum</th>\n",
       "    </tr>\n",
       "    <tr>\n",
       "      <th>class</th>\n",
       "      <th></th>\n",
       "    </tr>\n",
       "  </thead>\n",
       "  <tbody>\n",
       "    <tr>\n",
       "      <th>0.0</th>\n",
       "      <td>3937.333333</td>\n",
       "    </tr>\n",
       "    <tr>\n",
       "      <th>1.0</th>\n",
       "      <td>17953.200000</td>\n",
       "    </tr>\n",
       "  </tbody>\n",
       "</table>\n",
       "</div>"
      ],
      "text/plain": [
       "             cumsum\n",
       "class              \n",
       "0.0     3937.333333\n",
       "1.0    17953.200000"
      ]
     },
     "execution_count": 230,
     "metadata": {},
     "output_type": "execute_result"
    }
   ],
   "source": [
    "dft = df[(df.uur == date_limit) & (df.fitbit_id == 323.0)]\n",
    "dft[['cumsum', 'class']].groupby('class').mean()"
   ]
  },
  {
   "cell_type": "markdown",
   "metadata": {},
   "source": [
    "De gemiddelde waarde per class ligt behoorlijk uit elkaar...in hoeverre heb je een model nodig om een voorspelling te maken?\n",
    "Wat nog interessant is, is de verdeling van de class 1 waarden. zijn die normaal verdeeld?"
   ]
  },
  {
   "cell_type": "code",
   "execution_count": 240,
   "metadata": {},
   "outputs": [
    {
     "data": {
      "image/png": "[encoded data removed]",
      "text/plain": [
       "<Figure size 1440x576 with 1 Axes>"
      ]
     },
     "metadata": {},
     "output_type": "display_data"
    }
   ],
   "source": [
    "dft = df[(df.uur == date_limit) & (df.fitbit_id == 323.0) & df['class']==1]\n",
    "plt.figure(figsize=(20,8))\n",
    "plt.hist(dft['cumsum'])\n",
    "plt.title('histogram van fitbit 323 van metingen per 18:00 met uiteindelijk > 10000 per dag')\n",
    "plt.show()"
   ]
  },
  {
   "cell_type": "markdown",
   "metadata": {},
   "source": [
    "## ?\n",
    "Group data by fitbit and date"
   ]
  },
  {
   "cell_type": "code",
   "execution_count": 210,
   "metadata": {
    "scrolled": false
   },
   "outputs": [
    {
     "data": {
      "image/png": "[encoded data removed]",
      "text/plain": [
       "<Figure size 1440x576 with 1 Axes>"
      ]
     },
     "metadata": {},
     "output_type": "display_data"
    },
    {
     "data": {
      "image/png": "[encoded data removed]",
      "text/plain": [
       "<Figure size 1440x576 with 1 Axes>"
      ]
     },
     "metadata": {},
     "output_type": "display_data"
    },
    {
     "data": {
      "image/png": "[encoded data removed]",
      "text/plain": [
       "<Figure size 1440x576 with 1 Axes>"
      ]
     },
     "metadata": {},
     "output_type": "display_data"
    },
    {
     "data": {
      "image/png": "[encoded data removed]",
      "text/plain": [
       "<Figure size 1440x576 with 1 Axes>"
      ]
     },
     "metadata": {},
     "output_type": "display_data"
    },
    {
     "data": {
      "image/png": "[encoded data removed]",
      "text/plain": [
       "<Figure size 1440x576 with 1 Axes>"
      ]
     },
     "metadata": {},
     "output_type": "display_data"
    },
    {
     "data": {
      "image/png": "[encoded data removed]",
      "text/plain": [
       "<Figure size 1440x576 with 1 Axes>"
      ]
     },
     "metadata": {},
     "output_type": "display_data"
    },
    {
     "data": {
      "image/png": "[encoded data removed]",
      "text/plain": [
       "<Figure size 1440x576 with 1 Axes>"
      ]
     },
     "metadata": {},
     "output_type": "display_data"
    }
   ],
   "source": [
    "# create aggregate dataframe per fitbit, per date\n",
    "dfx = df.groupby(['fitbit_id','datum']).sum()\n",
    "dfx['dag'] = pd.to_datetime(dfx.dag).dt.weekday\n",
    "dfx.reset_index(inplace=True)\n",
    "\n",
    "fb_ids = df.fitbit_id.unique().tolist()\n",
    "\n",
    "for fitbit in fb_ids:\n",
    "    x = dfx[dfx.fitbit_id == fitbit]['datum'].tolist()\n",
    "    y = dfx[dfx.fitbit_id == fitbit]['steps'].tolist()\n",
    "\n",
    "    plt.figure(figsize=(20,8))\n",
    "    plt.bar(x, y)\n",
    "    plt.title('fitbit #' + str(fitbit))\n",
    "    plt.show()"
   ]
  },
  {
   "cell_type": "code",
   "execution_count": null,
   "metadata": {},
   "outputs": [],
   "source": [
    "dfx[dfx.fitbit_id == 323][-100:]"
   ]
  },
  {
   "cell_type": "code",
   "execution_count": null,
   "metadata": {},
   "outputs": [],
   "source": [
    "fb_ids = df.fitbit_id.unique().tolist()\n",
    "\n",
    "nr_or_rows = math.ceil(float(len(fb_ids) / 3.0))\n",
    "print(nr_or_rows)                       \n",
    "fig = plt.figure()\n",
    "fig, ax = plt.subplots(nr_or_rows, 3, sharey=True, figsize=(20,10))\n",
    "\n",
    "#plot positions for each entity in list\n",
    "for nr, entity in enumerate(fb_ids):\n",
    "    row = math.ceil((nr + 1) / 3) - 1\n",
    "    column = round(((((nr + 1) / 3)) - row) * 3) -1\n",
    "    print(row, column)\n",
    "    df[df.fitbit_id == entity].groupby(['datum']).sum()\n",
    "    x = df.index\n",
    "    y = df.steps\n",
    "\n",
    "    ax[row][column].bar(x,y)\n",
    "    ax[row][column].set_title(entity)"
   ]
  },
  {
   "cell_type": "code",
   "execution_count": null,
   "metadata": {},
   "outputs": [],
   "source": [
    "# data check\n",
    "# are there days without steps? (very unlikely)\n",
    "df_remove = df[(df['cumsum'] == 0) & (df['uur'] == 23)][['datum', 'fitbit_id']]\n",
    "df_remove['fitbit_id'] = df_remove.fitbit_id.astype(float)\n",
    "remove = len(df_remove)\n",
    "print(remove)\n",
    "\n",
    "df = df[~df.isin(df_remove.to_dict())]\n",
    "after = len(df)\n",
    "print(after)\n",
    "print(before-after)\n",
    "# df[df['fitbit_id'] != df_remove['fitbit_id']]\n",
    "\n",
    "# calories vs steps\n",
    "# df['cal_vs_steps'] = df.calories / df.steps\n",
    "# plt.hist(df.cal_vs_steps)\n",
    "# plt.show()\n",
    "df['dist_vs_steps'] = df.distance / df.steps\n",
    "plt.hist(df.dist_vs_steps, density=False)\n",
    "plt.title('distance vs steps')\n",
    "plt.show()"
   ]
  },
  {
   "cell_type": "code",
   "execution_count": null,
   "metadata": {},
   "outputs": [],
   "source": []
  }
 ],
 "metadata": {
  "kernelspec": {
   "display_name": "Python 3",
   "language": "python",
   "name": "python3"
  },
  "language_info": {
   "codemirror_mode": {
    "name": "ipython",
    "version": 3
   },
   "file_extension": ".py",
   "mimetype": "text/x-python",
   "name": "python",
   "nbconvert_exporter": "python",
   "pygments_lexer": "ipython3",
   "version": "3.7.1"
  }
 },
 "nbformat": 4,
 "nbformat_minor": 2
}
